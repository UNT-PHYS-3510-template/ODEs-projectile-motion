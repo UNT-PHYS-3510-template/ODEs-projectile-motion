{
 "cells": [
  {
   "cell_type": "markdown",
   "metadata": {},
   "source": [
    "# Projectile Motion"
   ]
  },
  {
   "cell_type": "markdown",
   "metadata": {},
   "source": [
    "First we import useful modules"
   ]
  },
  {
   "cell_type": "code",
   "execution_count": 1,
   "metadata": {},
   "outputs": [],
   "source": [
    "import numpy as np\n",
    "import matplotlib.pyplot as plt\n",
    "import matplotlib.style as style # These two lines are needed to visualize plots in dark backgrounds\n",
    "style.use('dark_background') # If you don't use dark backgrounds, comment out this line"
   ]
  },
  {
   "cell_type": "markdown",
   "metadata": {},
   "source": [
    "For this problem we have four degrees of freedom: 2 components of the position (x and y) and 2 components of the velocity (vx and vy) of the projectile. Similary to the free fall program, we will use a single array with all the dof together, i.e. dof = [ x, y, vx, vy ].\n",
    "\n",
    "For the assignment you are supposed to simulate a projectile that starts in the origin, with an initial speed of 10 m/s, directed $30\\degree$ above the horizontal axis. NOTE: you can access the trigonometric functions through Numpy (np.sin() and np.cos()), as well as the value of $\\pi$ (np.pi)."
   ]
  },
  {
   "cell_type": "code",
   "execution_count": 2,
   "metadata": {},
   "outputs": [
    {
     "ename": "NameError",
     "evalue": "name 'vx' is not defined",
     "output_type": "error",
     "traceback": [
      "\u001b[0;31m---------------------------------------------------------------------------\u001b[0m",
      "\u001b[0;31mNameError\u001b[0m                                 Traceback (most recent call last)",
      "\u001b[0;32m<ipython-input-2-dbc2ef6b2821>\u001b[0m in \u001b[0;36m<module>\u001b[0;34m()\u001b[0m\n\u001b[0;32m----> 1\u001b[0;31m \u001b[0mdof0\u001b[0m\u001b[0;34m=\u001b[0m\u001b[0mnp\u001b[0m\u001b[0;34m.\u001b[0m\u001b[0marray\u001b[0m\u001b[0;34m(\u001b[0m\u001b[0;34m[\u001b[0m\u001b[0;36m0.\u001b[0m\u001b[0;34m,\u001b[0m \u001b[0;36m0.\u001b[0m\u001b[0;34m,\u001b[0m \u001b[0mvx\u001b[0m\u001b[0;34m,\u001b[0m \u001b[0mvy\u001b[0m\u001b[0;34m]\u001b[0m\u001b[0;34m)\u001b[0m \u001b[0;31m# you need to replace vx and vy with the correct values given by the problem\u001b[0m\u001b[0;34m\u001b[0m\u001b[0m\n\u001b[0m\u001b[1;32m      2\u001b[0m \u001b[0ma\u001b[0m\u001b[0;34m=\u001b[0m\u001b[0;34m-\u001b[0m\u001b[0;36m9.8\u001b[0m \u001b[0;31m# gravitational acceleration\u001b[0m\u001b[0;34m\u001b[0m\u001b[0m\n",
      "\u001b[0;31mNameError\u001b[0m: name 'vx' is not defined"
     ]
    }
   ],
   "source": [
    "dof0=np.array([x, y, vx, vy]) # you need to replace the entries with the correct values asked by the problem\n",
    "a=-9.8 # gravitational acceleration "
   ]
  },
  {
   "cell_type": "markdown",
   "metadata": {},
   "source": [
    "Here we can reuse the ODE solvers from the previous assignment"
   ]
  },
  {
   "cell_type": "code",
   "execution_count": 3,
   "metadata": {},
   "outputs": [],
   "source": [
    "def Euler(diffeq,dof,h):\n",
    "    \"\"\"Euler method for ODEs:\n",
    "    Given the degrees of freedom at time t\n",
    "    Returns the degrees of freedom at time t+dt\"\"\"\n",
    "    ddofdt=diffeq(dof) # get (d/dt)dof at time t\n",
    "    return dof + h*ddofdt\n",
    "\n",
    "def RK2(diffeq,dof,h):\n",
    "    \"\"\"Runge-Kutta second-order method for ODEs:\n",
    "    Given the degrees of freedom at time t\n",
    "    Returns the degrees of freedom at time t+dt\"\"\"\n",
    "    k1=h*diffeq(dof)\n",
    "    k2=h*diffeq(dof+0.5*k1)\n",
    "    return dof+k2"
   ]
  },
  {
   "cell_type": "markdown",
   "metadata": {},
   "source": [
    "We just need to define an appropriate function to compute the derivatives of the degrees of freedom with respect to time. Now we have four dof, so we need to code the appropriate expressions for dx/dt, dy/dt, dvx/dt, and dvy/dt (in this order)"
   ]
  },
  {
   "cell_type": "code",
   "execution_count": 4,
   "metadata": {},
   "outputs": [
    {
     "ename": "SyntaxError",
     "evalue": "invalid syntax (<ipython-input-4-124cad2ae5d4>, line 4)",
     "output_type": "error",
     "traceback": [
      "\u001b[0;36m  File \u001b[0;32m\"<ipython-input-4-124cad2ae5d4>\"\u001b[0;36m, line \u001b[0;32m4\u001b[0m\n\u001b[0;31m    ddofdt[0]=\u001b[0m\n\u001b[0m              ^\u001b[0m\n\u001b[0;31mSyntaxError\u001b[0m\u001b[0;31m:\u001b[0m invalid syntax\n"
     ]
    }
   ],
   "source": [
    "def projectile_motion(dof):\n",
    "    \"\"\"Compute the derivatives of the degrees of freedom of the system with respect to time\"\"\"\n",
    "    ddofdt=np.zeros(4)\n",
    "    ddofdt[0]=\n",
    "    ddofdt[1]=\n",
    "    ddofdt[2]=\n",
    "    ddofdt[3]=\n",
    "    return ddofdt"
   ]
  },
  {
   "cell_type": "markdown",
   "metadata": {},
   "source": [
    "Now we can run a Euler simulation of the projectile motion. Add some lines to save the results of interest along the trajectory."
   ]
  },
  {
   "cell_type": "code",
   "execution_count": 5,
   "metadata": {},
   "outputs": [
    {
     "ename": "NameError",
     "evalue": "name 'dof' is not defined",
     "output_type": "error",
     "traceback": [
      "\u001b[0;31m---------------------------------------------------------------------------\u001b[0m",
      "\u001b[0;31mNameError\u001b[0m                                 Traceback (most recent call last)",
      "\u001b[0;32m<ipython-input-5-c01ec1144061>\u001b[0m in \u001b[0;36m<module>\u001b[0;34m()\u001b[0m\n\u001b[1;32m      1\u001b[0m \u001b[0mdt\u001b[0m \u001b[0;34m=\u001b[0m \u001b[0;36m0.001\u001b[0m \u001b[0;31m# This controls the accuracy of the algorithm\u001b[0m\u001b[0;34m\u001b[0m\u001b[0m\n\u001b[1;32m      2\u001b[0m \u001b[0mtimes_Euler\u001b[0m\u001b[0;34m=\u001b[0m\u001b[0;34m[\u001b[0m\u001b[0;36m0.\u001b[0m\u001b[0;34m]\u001b[0m \u001b[0;31m# Setup a container to store the times along the trajectory\u001b[0m\u001b[0;34m\u001b[0m\u001b[0m\n\u001b[0;32m----> 3\u001b[0;31m \u001b[0mx_Euler\u001b[0m\u001b[0;34m=\u001b[0m\u001b[0;34m[\u001b[0m\u001b[0mdof\u001b[0m\u001b[0;34m[\u001b[0m\u001b[0;36m0\u001b[0m\u001b[0;34m]\u001b[0m\u001b[0;34m]\u001b[0m \u001b[0;31m# Setup a container to store the horizontal position along the trajectory\u001b[0m\u001b[0;34m\u001b[0m\u001b[0m\n\u001b[0m\u001b[1;32m      4\u001b[0m \u001b[0my_Euler\u001b[0m\u001b[0;34m=\u001b[0m\u001b[0;34m[\u001b[0m\u001b[0mdof\u001b[0m\u001b[0;34m[\u001b[0m\u001b[0;36m1\u001b[0m\u001b[0;34m]\u001b[0m\u001b[0;34m]\u001b[0m \u001b[0;31m# Setup a container to store the vertical position along the trajectory\u001b[0m\u001b[0;34m\u001b[0m\u001b[0m\n\u001b[1;32m      5\u001b[0m \u001b[0mdof\u001b[0m\u001b[0;34m=\u001b[0m\u001b[0mdof0\u001b[0m\u001b[0;34m.\u001b[0m\u001b[0mcopy\u001b[0m\u001b[0;34m(\u001b[0m\u001b[0;34m)\u001b[0m \u001b[0;31m# we copy the initial conditions, as we don't want to overwrite them, we may use them in the following.\u001b[0m\u001b[0;34m\u001b[0m\u001b[0m\n",
      "\u001b[0;31mNameError\u001b[0m: name 'dof' is not defined"
     ]
    }
   ],
   "source": [
    "dt = 0.001 # This controls the accuracy of the algorithm\n",
    "times_Euler=[0.] # Setup a container to store the times along the trajectory\n",
    "x_Euler=[dof[0]] # Setup a container to store the horizontal position along the trajectory\n",
    "y_Euler=[dof[1]] # Setup a container to store the vertical position along the trajectory\n",
    "dof=dof0.copy() # we copy the initial conditions, as we don't want to overwrite them, we may use them in the following. \n",
    "# note that in the above we use the array.copy() method, as the = operator has a different meaning for arrays\n",
    "while True: # this is an infinite loop, make sure you break it somewhere\n",
    "    dof=Euler(freefall,dof,dt)\n",
    "    if dof[1] < 0. : break # when the ball reaches the floor, exit the loop"
   ]
  },
  {
   "cell_type": "markdown",
   "metadata": {},
   "source": [
    "And setup a similar simulation using RK2 (or RK4 if you want). "
   ]
  },
  {
   "cell_type": "code",
   "execution_count": 6,
   "metadata": {},
   "outputs": [],
   "source": [
    "dt = 0.001 # This controls the accuracy of the algorithm\n",
    "times_RK2=[0.] # Setup a container to store the times along the trajectory\n"
   ]
  },
  {
   "cell_type": "markdown",
   "metadata": {},
   "source": [
    "Eventually, compare the two trajectories with the analytic results for $x(t)$ and $y(t)$ using matplotlib"
   ]
  },
  {
   "cell_type": "code",
   "execution_count": null,
   "metadata": {},
   "outputs": [],
   "source": []
  }
 ],
 "metadata": {
  "interpreter": {
   "hash": "2d7846955ef7c6cdb0317123bc42ab1f1df9d7c4fbf3a9f5b21349871b965b49"
  },
  "kernelspec": {
   "display_name": "Python 3.6.5 64-bit ('base': conda)",
   "language": "python",
   "name": "python3"
  },
  "language_info": {
   "codemirror_mode": {
    "name": "ipython",
    "version": 3
   },
   "file_extension": ".py",
   "mimetype": "text/x-python",
   "name": "python",
   "nbconvert_exporter": "python",
   "pygments_lexer": "ipython3",
   "version": "3.6.5"
  },
  "orig_nbformat": 4
 },
 "nbformat": 4,
 "nbformat_minor": 2
}
